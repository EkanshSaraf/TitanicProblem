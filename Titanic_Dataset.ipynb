{
  "nbformat": 4,
  "nbformat_minor": 0,
  "metadata": {
    "colab": {
      "name": "Titanic Dataset.ipynb",
      "provenance": [],
      "collapsed_sections": [],
      "authorship_tag": "ABX9TyNgq9LNf3wcGIomkPWNLq9C",
      "include_colab_link": true
    },
    "kernelspec": {
      "name": "python3",
      "display_name": "Python 3"
    },
    "language_info": {
      "name": "python"
    }
  },
  "cells": [
    {
      "cell_type": "markdown",
      "metadata": {
        "id": "view-in-github",
        "colab_type": "text"
      },
      "source": [
        "<a href=\"https://colab.research.google.com/github/EkanshSaraf/TitanicProblem/blob/Logistic-regression/Titanic_Dataset.ipynb\" target=\"_parent\"><img src=\"https://colab.research.google.com/assets/colab-badge.svg\" alt=\"Open In Colab\"/></a>"
      ]
    },
    {
      "cell_type": "code",
      "metadata": {
        "id": "vRVLHtNcW0tB",
        "colab": {
          "base_uri": "https://localhost:8080/"
        },
        "outputId": "6b79ec18-7a33-4f73-ca4b-0c7980177d54"
      },
      "source": [
        "from google.colab import drive\n",
        "drive.mount('/content/gdrive')"
      ],
      "execution_count": 1,
      "outputs": [
        {
          "output_type": "stream",
          "text": [
            "Mounted at /content/gdrive\n"
          ],
          "name": "stdout"
        }
      ]
    },
    {
      "cell_type": "markdown",
      "metadata": {
        "id": "2vbWqHf3YxpU"
      },
      "source": [
        "Configuration Path to Kaggle JSON File and Change of Present Working Directory"
      ]
    },
    {
      "cell_type": "code",
      "metadata": {
        "id": "IhME5e5aYYO4"
      },
      "source": [
        "import os\n",
        "os.environ['KAGGLE_CONFIG_DIR'] = \"/content/gdrive/MyDrive/Kaggle_Titanic\"\n",
        "\n",
        "%cd/content/gdrive/MyDrive/Kaggle_Titanic\n",
        "!pwd"
      ],
      "execution_count": null,
      "outputs": []
    },
    {
      "cell_type": "markdown",
      "metadata": {
        "id": "NOyWewkKaIFg"
      },
      "source": [
        "Download Kaggle Dataset to Drive"
      ]
    },
    {
      "cell_type": "code",
      "metadata": {
        "id": "1TnHdMWAZjuZ"
      },
      "source": [
        "!kaggle competitions download -c titanic\n",
        "!ls"
      ],
      "execution_count": null,
      "outputs": []
    },
    {
      "cell_type": "code",
      "metadata": {
        "id": "lptBYx-YabG-"
      },
      "source": [
        "import pandas as pd\n",
        "import matplotlib.pyplot as plt\n",
        "import seaborn as sns\n",
        "import numpy as np\n",
        "\n",
        "from sklearn.model_selection import train_test_split #for split the data\n",
        "from sklearn.metrics import accuracy_score  #for accuracy_score\n",
        "from sklearn.model_selection import KFold #for K-fold cross validation\n",
        "from sklearn.model_selection import cross_val_score #score evaluation\n",
        "from sklearn.model_selection import cross_val_predict #prediction\n",
        "from sklearn.metrics import confusion_matrix #for confusion matrix\n",
        "\n",
        "from sklearn.linear_model import LogisticRegression # Logistic Regression"
      ],
      "execution_count": 2,
      "outputs": []
    },
    {
      "cell_type": "code",
      "metadata": {
        "colab": {
          "base_uri": "https://localhost:8080/",
          "height": 537
        },
        "id": "i4DkbLX4agbm",
        "outputId": "3a69c182-e309-4111-fa64-053eca63cdbc"
      },
      "source": [
        "df_train  = pd.read_csv('/content/gdrive/MyDrive/Kaggle_Titanic/train.csv')\n",
        "df_test = pd.read_csv('/content/gdrive/MyDrive/Kaggle_Titanic/test.csv')\n",
        "\n",
        "df_comb = pd.concat([df_train,df_test]) #concat the test and train datasets\n",
        "print(df_comb.shape)\n",
        "df_comb.info()\n",
        "#df_comb.describe(include=object)\n",
        "df_comb.head()"
      ],
      "execution_count": 3,
      "outputs": [
        {
          "output_type": "stream",
          "text": [
            "(1309, 12)\n",
            "<class 'pandas.core.frame.DataFrame'>\n",
            "Int64Index: 1309 entries, 0 to 417\n",
            "Data columns (total 12 columns):\n",
            " #   Column       Non-Null Count  Dtype  \n",
            "---  ------       --------------  -----  \n",
            " 0   PassengerId  1309 non-null   int64  \n",
            " 1   Survived     891 non-null    float64\n",
            " 2   Pclass       1309 non-null   int64  \n",
            " 3   Name         1309 non-null   object \n",
            " 4   Sex          1309 non-null   object \n",
            " 5   Age          1046 non-null   float64\n",
            " 6   SibSp        1309 non-null   int64  \n",
            " 7   Parch        1309 non-null   int64  \n",
            " 8   Ticket       1309 non-null   object \n",
            " 9   Fare         1308 non-null   float64\n",
            " 10  Cabin        295 non-null    object \n",
            " 11  Embarked     1307 non-null   object \n",
            "dtypes: float64(3), int64(4), object(5)\n",
            "memory usage: 132.9+ KB\n"
          ],
          "name": "stdout"
        },
        {
          "output_type": "execute_result",
          "data": {
            "text/html": [
              "<div>\n",
              "<style scoped>\n",
              "    .dataframe tbody tr th:only-of-type {\n",
              "        vertical-align: middle;\n",
              "    }\n",
              "\n",
              "    .dataframe tbody tr th {\n",
              "        vertical-align: top;\n",
              "    }\n",
              "\n",
              "    .dataframe thead th {\n",
              "        text-align: right;\n",
              "    }\n",
              "</style>\n",
              "<table border=\"1\" class=\"dataframe\">\n",
              "  <thead>\n",
              "    <tr style=\"text-align: right;\">\n",
              "      <th></th>\n",
              "      <th>PassengerId</th>\n",
              "      <th>Survived</th>\n",
              "      <th>Pclass</th>\n",
              "      <th>Name</th>\n",
              "      <th>Sex</th>\n",
              "      <th>Age</th>\n",
              "      <th>SibSp</th>\n",
              "      <th>Parch</th>\n",
              "      <th>Ticket</th>\n",
              "      <th>Fare</th>\n",
              "      <th>Cabin</th>\n",
              "      <th>Embarked</th>\n",
              "    </tr>\n",
              "  </thead>\n",
              "  <tbody>\n",
              "    <tr>\n",
              "      <th>0</th>\n",
              "      <td>1</td>\n",
              "      <td>0.0</td>\n",
              "      <td>3</td>\n",
              "      <td>Braund, Mr. Owen Harris</td>\n",
              "      <td>male</td>\n",
              "      <td>22.0</td>\n",
              "      <td>1</td>\n",
              "      <td>0</td>\n",
              "      <td>A/5 21171</td>\n",
              "      <td>7.2500</td>\n",
              "      <td>NaN</td>\n",
              "      <td>S</td>\n",
              "    </tr>\n",
              "    <tr>\n",
              "      <th>1</th>\n",
              "      <td>2</td>\n",
              "      <td>1.0</td>\n",
              "      <td>1</td>\n",
              "      <td>Cumings, Mrs. John Bradley (Florence Briggs Th...</td>\n",
              "      <td>female</td>\n",
              "      <td>38.0</td>\n",
              "      <td>1</td>\n",
              "      <td>0</td>\n",
              "      <td>PC 17599</td>\n",
              "      <td>71.2833</td>\n",
              "      <td>C85</td>\n",
              "      <td>C</td>\n",
              "    </tr>\n",
              "    <tr>\n",
              "      <th>2</th>\n",
              "      <td>3</td>\n",
              "      <td>1.0</td>\n",
              "      <td>3</td>\n",
              "      <td>Heikkinen, Miss. Laina</td>\n",
              "      <td>female</td>\n",
              "      <td>26.0</td>\n",
              "      <td>0</td>\n",
              "      <td>0</td>\n",
              "      <td>STON/O2. 3101282</td>\n",
              "      <td>7.9250</td>\n",
              "      <td>NaN</td>\n",
              "      <td>S</td>\n",
              "    </tr>\n",
              "    <tr>\n",
              "      <th>3</th>\n",
              "      <td>4</td>\n",
              "      <td>1.0</td>\n",
              "      <td>1</td>\n",
              "      <td>Futrelle, Mrs. Jacques Heath (Lily May Peel)</td>\n",
              "      <td>female</td>\n",
              "      <td>35.0</td>\n",
              "      <td>1</td>\n",
              "      <td>0</td>\n",
              "      <td>113803</td>\n",
              "      <td>53.1000</td>\n",
              "      <td>C123</td>\n",
              "      <td>S</td>\n",
              "    </tr>\n",
              "    <tr>\n",
              "      <th>4</th>\n",
              "      <td>5</td>\n",
              "      <td>0.0</td>\n",
              "      <td>3</td>\n",
              "      <td>Allen, Mr. William Henry</td>\n",
              "      <td>male</td>\n",
              "      <td>35.0</td>\n",
              "      <td>0</td>\n",
              "      <td>0</td>\n",
              "      <td>373450</td>\n",
              "      <td>8.0500</td>\n",
              "      <td>NaN</td>\n",
              "      <td>S</td>\n",
              "    </tr>\n",
              "  </tbody>\n",
              "</table>\n",
              "</div>"
            ],
            "text/plain": [
              "   PassengerId  Survived  Pclass  ...     Fare Cabin  Embarked\n",
              "0            1       0.0       3  ...   7.2500   NaN         S\n",
              "1            2       1.0       1  ...  71.2833   C85         C\n",
              "2            3       1.0       3  ...   7.9250   NaN         S\n",
              "3            4       1.0       1  ...  53.1000  C123         S\n",
              "4            5       0.0       3  ...   8.0500   NaN         S\n",
              "\n",
              "[5 rows x 12 columns]"
            ]
          },
          "metadata": {
            "tags": []
          },
          "execution_count": 3
        }
      ]
    },
    {
      "cell_type": "code",
      "metadata": {
        "colab": {
          "base_uri": "https://localhost:8080/"
        },
        "id": "2NHEQiwTo0rm",
        "outputId": "2775cfe4-5fa0-4ce5-e852-88276d6ec23b"
      },
      "source": [
        "df = df_comb.drop(['Cabin','PassengerId','Ticket'],axis=1)\n",
        "df.head()\n",
        "df.info()"
      ],
      "execution_count": 4,
      "outputs": [
        {
          "output_type": "stream",
          "text": [
            "<class 'pandas.core.frame.DataFrame'>\n",
            "Int64Index: 1309 entries, 0 to 417\n",
            "Data columns (total 9 columns):\n",
            " #   Column    Non-Null Count  Dtype  \n",
            "---  ------    --------------  -----  \n",
            " 0   Survived  891 non-null    float64\n",
            " 1   Pclass    1309 non-null   int64  \n",
            " 2   Name      1309 non-null   object \n",
            " 3   Sex       1309 non-null   object \n",
            " 4   Age       1046 non-null   float64\n",
            " 5   SibSp     1309 non-null   int64  \n",
            " 6   Parch     1309 non-null   int64  \n",
            " 7   Fare      1308 non-null   float64\n",
            " 8   Embarked  1307 non-null   object \n",
            "dtypes: float64(3), int64(3), object(3)\n",
            "memory usage: 102.3+ KB\n"
          ],
          "name": "stdout"
        }
      ]
    },
    {
      "cell_type": "code",
      "metadata": {
        "id": "B7DSIqYctI8t",
        "colab": {
          "base_uri": "https://localhost:8080/",
          "height": 286
        },
        "outputId": "3e93e65e-a9f3-4662-d742-fb45da503a5c"
      },
      "source": [
        "corr_matrix = df.corr().abs()\n",
        "sns.heatmap(corr_matrix)"
      ],
      "execution_count": 5,
      "outputs": [
        {
          "output_type": "execute_result",
          "data": {
            "text/plain": [
              "<matplotlib.axes._subplots.AxesSubplot at 0x7fc1ec2f0790>"
            ]
          },
          "metadata": {
            "tags": []
          },
          "execution_count": 5
        },
        {
          "output_type": "display_data",
          "data": {
            "image/png": "[encoded data removed]",
            "text/plain": [
              "<Figure size 432x288 with 2 Axes>"
            ]
          },
          "metadata": {
            "tags": [],
            "needs_background": "light"
          }
        }
      ]
    },
    {
      "cell_type": "markdown",
      "metadata": {
        "id": "aEwL3JnuzmLh"
      },
      "source": [
        "Categorization of Features"
      ]
    },
    {
      "cell_type": "code",
      "metadata": {
        "id": "TWoTDqEcwIP8"
      },
      "source": [
        "numerical_features = [feature for feature in df.columns if df[feature].dtypes != 'O']\n",
        "\n",
        "discrete_features = [feature for feature in numerical_features if len(df[feature].unique())<25]\n",
        "\n",
        "continuous_features = [feature for feature in numerical_features if feature not in discrete_features]\n",
        "\n",
        "categorical_features = list(set(list(df.columns)).difference(set(numerical_features)))"
      ],
      "execution_count": 6,
      "outputs": []
    },
    {
      "cell_type": "code",
      "metadata": {
        "id": "ESKssDfGX_B5",
        "colab": {
          "base_uri": "https://localhost:8080/",
          "height": 296
        },
        "outputId": "78e14867-89e3-491b-8e99-4ef2fb6ae0d6"
      },
      "source": [
        "sns.countplot(x='Embarked',hue='Survived',data=df)"
      ],
      "execution_count": 7,
      "outputs": [
        {
          "output_type": "execute_result",
          "data": {
            "text/plain": [
              "<matplotlib.axes._subplots.AxesSubplot at 0x7fc1d1e600d0>"
            ]
          },
          "metadata": {
            "tags": []
          },
          "execution_count": 7
        },
        {
          "output_type": "display_data",
          "data": {
            "image/png": "[encoded data removed]",
            "text/plain": [
              "<Figure size 432x288 with 1 Axes>"
            ]
          },
          "metadata": {
            "tags": [],
            "needs_background": "light"
          }
        }
      ]
    },
    {
      "cell_type": "code",
      "metadata": {
        "id": "4Ev18KYIXkcw",
        "colab": {
          "base_uri": "https://localhost:8080/",
          "height": 369
        },
        "outputId": "609b33b7-99ee-4655-82f2-a492542b5deb"
      },
      "source": [
        "sns.displot(x='Age',data=df,bins=10)\n",
        "plt.show()"
      ],
      "execution_count": 8,
      "outputs": [
        {
          "output_type": "display_data",
          "data": {
            "image/png": "[encoded data removed]",
            "text/plain": [
              "<Figure size 360x360 with 1 Axes>"
            ]
          },
          "metadata": {
            "tags": [],
            "needs_background": "light"
          }
        }
      ]
    },
    {
      "cell_type": "markdown",
      "metadata": {
        "id": "Kpo0-Lhmalpx"
      },
      "source": [
        "Handling Missing Values"
      ]
    },
    {
      "cell_type": "code",
      "metadata": {
        "id": "0cPAD6bS9JsM"
      },
      "source": [
        "df['Cabin'].unique()"
      ],
      "execution_count": null,
      "outputs": []
    },
    {
      "cell_type": "code",
      "metadata": {
        "id": "87ioCpl_061-",
        "colab": {
          "base_uri": "https://localhost:8080/"
        },
        "outputId": "736d53cc-8689-4916-a364-ddc282b9e223"
      },
      "source": [
        "def Salutation(x):\n",
        "  if 'Mr.' in x:\n",
        "    return 'Mr.'\n",
        "  elif 'Miss.' in x:\n",
        "    return 'Miss.'\n",
        "  else:\n",
        "    return 'Mrs.'\n",
        "\n",
        "def Age(x,y):\n",
        "  if np.isnan(y):\n",
        "    if x=='Mr.':\n",
        "      return(df[df['Pclass']==1]['Age'].median())\n",
        "    elif x=='Miss.':\n",
        "      return(df[df['Pclass']==2]['Age'].median())\n",
        "    else:\n",
        "      return(df[df['Pclass']==3]['Age'].median())\n",
        "  else:\n",
        "    return y\n",
        "\n",
        "df['Salutation'] = df['Name'].apply(lambda x: Salutation(x))\n",
        "\n",
        "df['Age'] = df.apply(lambda x: Age(x.Pclass,x.Age),axis=1)\n",
        "\n",
        "df['Embarked'].fillna('S',inplace=True)\n",
        "\n",
        "df['Fare'].fillna(df['Fare'].mean(),inplace=True)\n",
        "\n",
        "df.info()"
      ],
      "execution_count": 9,
      "outputs": [
        {
          "output_type": "stream",
          "text": [
            "<class 'pandas.core.frame.DataFrame'>\n",
            "Int64Index: 1309 entries, 0 to 417\n",
            "Data columns (total 10 columns):\n",
            " #   Column      Non-Null Count  Dtype  \n",
            "---  ------      --------------  -----  \n",
            " 0   Survived    891 non-null    float64\n",
            " 1   Pclass      1309 non-null   int64  \n",
            " 2   Name        1309 non-null   object \n",
            " 3   Sex         1309 non-null   object \n",
            " 4   Age         1309 non-null   float64\n",
            " 5   SibSp       1309 non-null   int64  \n",
            " 6   Parch       1309 non-null   int64  \n",
            " 7   Fare        1309 non-null   float64\n",
            " 8   Embarked    1309 non-null   object \n",
            " 9   Salutation  1309 non-null   object \n",
            "dtypes: float64(3), int64(3), object(4)\n",
            "memory usage: 152.5+ KB\n"
          ],
          "name": "stdout"
        }
      ]
    },
    {
      "cell_type": "markdown",
      "metadata": {
        "id": "q1Xt4MmOaqCS"
      },
      "source": [
        "Vizualize Continuous Features"
      ]
    },
    {
      "cell_type": "code",
      "metadata": {
        "id": "5l6ciUbfZ0pI",
        "colab": {
          "base_uri": "https://localhost:8080/",
          "height": 541
        },
        "outputId": "dcb2c34f-a4ae-4027-baa1-ba0cbeb18d46"
      },
      "source": [
        "sns.boxplot(x='Survived',y='Age',data=df[df['Sex']=='male'])\n",
        "plt.show()\n",
        "sns.boxplot(x='Survived',y='Fare',data=df)#medians different\n",
        "plt.show()\n",
        "\n",
        "df1 = df.drop(['Name','Salutation'],axis=1)"
      ],
      "execution_count": 10,
      "outputs": [
        {
          "output_type": "display_data",
          "data": {
            "image/png": "[encoded data removed]",
            "text/plain": [
              "<Figure size 432x288 with 1 Axes>"
            ]
          },
          "metadata": {
            "tags": [],
            "needs_background": "light"
          }
        },
        {
          "output_type": "display_data",
          "data": {
            "image/png": "[encoded data removed]",
            "text/plain": [
              "<Figure size 432x288 with 1 Axes>"
            ]
          },
          "metadata": {
            "tags": [],
            "needs_background": "light"
          }
        }
      ]
    },
    {
      "cell_type": "markdown",
      "metadata": {
        "id": "HJh030Sdl143"
      },
      "source": [
        "Vizualize Categorical Features"
      ]
    },
    {
      "cell_type": "code",
      "metadata": {
        "id": "jlDxXgafcFOs",
        "colab": {
          "base_uri": "https://localhost:8080/",
          "height": 1000
        },
        "outputId": "2b1f9674-c697-4d7e-ed68-d5159a0203bf"
      },
      "source": [
        "sns.countplot(x='Sex',hue='Survived',data=df1)\n",
        "plt.show()\n",
        "\n",
        "sns.countplot(x='Pclass',hue='Survived',data=df1)\n",
        "plt.show()\n",
        "\n",
        "sns.countplot(x='SibSp',hue='Survived',data=df1)\n",
        "plt.show()\n",
        "\n",
        "sns.countplot(x='Parch',hue='Survived',data=df1)\n",
        "plt.show()\n",
        "\n",
        "sns.countplot(x='Embarked',hue='Survived',data=df1)\n",
        "plt.show()"
      ],
      "execution_count": 11,
      "outputs": [
        {
          "output_type": "display_data",
          "data": {
            "image/png": "[encoded data removed]",
            "text/plain": [
              "<Figure size 432x288 with 1 Axes>"
            ]
          },
          "metadata": {
            "tags": [],
            "needs_background": "light"
          }
        },
        {
          "output_type": "display_data",
          "data": {
            "image/png": "[encoded data removed]",
            "text/plain": [
              "<Figure size 432x288 with 1 Axes>"
            ]
          },
          "metadata": {
            "tags": [],
            "needs_background": "light"
          }
        },
        {
          "output_type": "display_data",
          "data": {
            "image/png": "[encoded data removed]",
            "text/plain": [
              "<Figure size 432x288 with 1 Axes>"
            ]
          },
          "metadata": {
            "tags": [],
            "needs_background": "light"
          }
        },
        {
          "output_type": "display_data",
          "data": {
            "image/png": "[encoded data removed]",
            "text/plain": [
              "<Figure size 432x288 with 1 Axes>"
            ]
          },
          "metadata": {
            "tags": [],
            "needs_background": "light"
          }
        },
        {
          "output_type": "display_data",
          "data": {
            "image/png": "[encoded data removed]",
            "text/plain": [
              "<Figure size 432x288 with 1 Axes>"
            ]
          },
          "metadata": {
            "tags": [],
            "needs_background": "light"
          }
        }
      ]
    },
    {
      "cell_type": "code",
      "metadata": {
        "id": "KRQ0sJWFklqD",
        "colab": {
          "base_uri": "https://localhost:8080/",
          "height": 296
        },
        "outputId": "b08ada46-49e4-4001-ca05-875c17cbbaa5"
      },
      "source": [
        "df1['Family'] = df1['SibSp'] + df1['Parch'] + 1\n",
        "df1.head()\n",
        "\n",
        "sns.countplot(x='Family',hue='Survived',data=df1)"
      ],
      "execution_count": 12,
      "outputs": [
        {
          "output_type": "execute_result",
          "data": {
            "text/plain": [
              "<matplotlib.axes._subplots.AxesSubplot at 0x7fc1d0a3b450>"
            ]
          },
          "metadata": {
            "tags": []
          },
          "execution_count": 12
        },
        {
          "output_type": "display_data",
          "data": {
            "image/png": "[encoded data removed]",
            "text/plain": [
              "<Figure size 432x288 with 1 Axes>"
            ]
          },
          "metadata": {
            "tags": [],
            "needs_background": "light"
          }
        }
      ]
    },
    {
      "cell_type": "code",
      "metadata": {
        "id": "-pExxNWX_tSJ",
        "colab": {
          "base_uri": "https://localhost:8080/"
        },
        "outputId": "ca421090-f9be-49c3-8437-ff2e724c702a"
      },
      "source": [
        "df2 = df1.drop(['SibSp','Parch'],inplace=False,axis=1)\n",
        "\n",
        "df3 = pd.get_dummies(df2,columns=['Pclass','Sex','Embarked','Family'],prefix=['Pclass','Sex','Embarked','Family'])\n",
        "\n",
        "df3.info()"
      ],
      "execution_count": 13,
      "outputs": [
        {
          "output_type": "stream",
          "text": [
            "<class 'pandas.core.frame.DataFrame'>\n",
            "Int64Index: 1309 entries, 0 to 417\n",
            "Data columns (total 7 columns):\n",
            " #   Column    Non-Null Count  Dtype  \n",
            "---  ------    --------------  -----  \n",
            " 0   Survived  891 non-null    float64\n",
            " 1   Pclass    1309 non-null   int64  \n",
            " 2   Sex       1309 non-null   object \n",
            " 3   Age       1309 non-null   float64\n",
            " 4   Fare      1309 non-null   float64\n",
            " 5   Embarked  1309 non-null   object \n",
            " 6   Family    1309 non-null   int64  \n",
            "dtypes: float64(3), int64(2), object(2)\n",
            "memory usage: 121.8+ KB\n"
          ],
          "name": "stdout"
        }
      ]
    },
    {
      "cell_type": "code",
      "metadata": {
        "id": "-l6Q2Zt_Vndf",
        "colab": {
          "base_uri": "https://localhost:8080/"
        },
        "outputId": "275b315b-4965-4777-e0eb-969efe450c54"
      },
      "source": [
        "df2['Family'].unique()"
      ],
      "execution_count": null,
      "outputs": [
        {
          "output_type": "execute_result",
          "data": {
            "text/plain": [
              "array([ 2,  1,  5,  3,  7,  6,  4,  8, 11])"
            ]
          },
          "metadata": {
            "tags": []
          },
          "execution_count": 18
        }
      ]
    },
    {
      "cell_type": "markdown",
      "metadata": {
        "id": "KqKyvpdRZIxW"
      },
      "source": [
        "Logistic Regression"
      ]
    },
    {
      "cell_type": "code",
      "metadata": {
        "id": "suOkVaLBW9Im",
        "colab": {
          "base_uri": "https://localhost:8080/"
        },
        "outputId": "71c7e4c7-6f96-44e8-e067-9698acca34da"
      },
      "source": [
        "df3['Fare_Norm'] = (df3['Fare']-df3['Fare'].mean())/df3['Fare'].std()\n",
        "df3['Age_Norm'] = (df3['Age']-df3['Age'].mean())/df3['Age'].std()\n",
        "\n",
        "train_df = df3.head(891)\n",
        "test_df = df3.tail(1309-891)\n",
        "\n",
        "train_x = train_df.drop(['Survived','Fare','Age'],inplace=False,axis=1)\n",
        "train_y = train_df['Survived']\n",
        "test = test_df.drop(['Survived','Fare','Age'],inplace=False,axis=1)\n",
        "\n",
        "X_train,X_val,y_train,y_val = train_test_split(train_x, train_y, stratify=train_y, test_size=0.3, random_state = 42)\n",
        "\n",
        "model_lr = LogisticRegression()\n",
        "model_lr.fit(X_train,y_train)\n",
        "prediction_lr = model_lr.predict(X_val)\n",
        "\n",
        "round(accuracy_score(prediction_lr,y_val)*100,2)"
      ],
      "execution_count": 22,
      "outputs": [
        {
          "output_type": "execute_result",
          "data": {
            "text/plain": [
              "81.72"
            ]
          },
          "metadata": {
            "tags": []
          },
          "execution_count": 22
        }
      ]
    },
    {
      "cell_type": "code",
      "metadata": {
        "id": "FSTQLqi6h4y4"
      },
      "source": [
        ""
      ],
      "execution_count": null,
      "outputs": []
    }
  ]
}