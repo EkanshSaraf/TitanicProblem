{
  "nbformat": 4,
  "nbformat_minor": 0,
  "metadata": {
    "colab": {
      "name": "Titanic Dataset.ipynb",
      "provenance": [],
      "collapsed_sections": [],
      "authorship_tag": "ABX9TyNQl0tAu1gMNCaoApkGLZ/H",
      "include_colab_link": true
    },
    "kernelspec": {
      "name": "python3",
      "display_name": "Python 3"
    },
    "language_info": {
      "name": "python"
    }
  },
  "cells": [
    {
      "cell_type": "markdown",
      "metadata": {
        "id": "view-in-github",
        "colab_type": "text"
      },
      "source": [
        "<a href=\"https://colab.research.google.com/github/EkanshSaraf/TitanicProblem/blob/Working-Copy/Titanic_Dataset.ipynb\" target=\"_parent\"><img src=\"https://colab.research.google.com/assets/colab-badge.svg\" alt=\"Open In Colab\"/></a>"
      ]
    },
    {
      "cell_type": "code",
      "metadata": {
        "id": "vRVLHtNcW0tB",
        "colab": {
          "base_uri": "https://localhost:8080/"
        },
        "outputId": "bcb66cec-dfe2-4b03-d454-73422fa03750"
      },
      "source": [
        "from google.colab import drive\n",
        "drive.mount('/content/gdrive')"
      ],
      "execution_count": 1,
      "outputs": [
        {
          "output_type": "stream",
          "text": [
            "Mounted at /content/gdrive\n"
          ],
          "name": "stdout"
        }
      ]
    },
    {
      "cell_type": "markdown",
      "metadata": {
        "id": "2vbWqHf3YxpU"
      },
      "source": [
        "Configuration Path to Kaggle JSON File and Change of Present Working Directory"
      ]
    },
    {
      "cell_type": "code",
      "metadata": {
        "id": "IhME5e5aYYO4"
      },
      "source": [
        "import os\n",
        "os.environ['KAGGLE_CONFIG_DIR'] = \"/content/gdrive/MyDrive/Kaggle_Titanic\"\n",
        "\n",
        "%cd/content/gdrive/MyDrive/Kaggle_Titanic\n",
        "!pwd"
      ],
      "execution_count": null,
      "outputs": []
    },
    {
      "cell_type": "markdown",
      "metadata": {
        "id": "NOyWewkKaIFg"
      },
      "source": [
        "Download Kaggle Dataset to Drive"
      ]
    },
    {
      "cell_type": "code",
      "metadata": {
        "id": "1TnHdMWAZjuZ"
      },
      "source": [
        "!kaggle competitions download -c titanic\n",
        "!ls"
      ],
      "execution_count": null,
      "outputs": []
    },
    {
      "cell_type": "code",
      "metadata": {
        "id": "lptBYx-YabG-"
      },
      "source": [
        "import pandas as pd\n",
        "import matplotlib.pyplot as plt\n",
        "import seaborn as sns\n",
        "import numpy as np"
      ],
      "execution_count": 43,
      "outputs": []
    },
    {
      "cell_type": "code",
      "metadata": {
        "colab": {
          "base_uri": "https://localhost:8080/",
          "height": 537
        },
        "id": "i4DkbLX4agbm",
        "outputId": "d89e5ae4-fa3a-4ed5-bda4-2eff9277986b"
      },
      "source": [
        "df_train  = pd.read_csv('/content/gdrive/MyDrive/Kaggle_Titanic/train.csv')\n",
        "df_test = pd.read_csv('/content/gdrive/MyDrive/Kaggle_Titanic/test.csv')\n",
        "\n",
        "df_comb = pd.concat([df_train,df_test]) #concat the test and train datasets\n",
        "print(df_comb.shape)\n",
        "df_comb.info()\n",
        "#df_comb.describe(include=object)\n",
        "df_comb.head()"
      ],
      "execution_count": 48,
      "outputs": [
        {
          "output_type": "stream",
          "text": [
            "(1309, 12)\n",
            "<class 'pandas.core.frame.DataFrame'>\n",
            "Int64Index: 1309 entries, 0 to 417\n",
            "Data columns (total 12 columns):\n",
            " #   Column       Non-Null Count  Dtype  \n",
            "---  ------       --------------  -----  \n",
            " 0   PassengerId  1309 non-null   int64  \n",
            " 1   Survived     891 non-null    float64\n",
            " 2   Pclass       1309 non-null   int64  \n",
            " 3   Name         1309 non-null   object \n",
            " 4   Sex          1309 non-null   object \n",
            " 5   Age          1046 non-null   float64\n",
            " 6   SibSp        1309 non-null   int64  \n",
            " 7   Parch        1309 non-null   int64  \n",
            " 8   Ticket       1309 non-null   object \n",
            " 9   Fare         1308 non-null   float64\n",
            " 10  Cabin        295 non-null    object \n",
            " 11  Embarked     1307 non-null   object \n",
            "dtypes: float64(3), int64(4), object(5)\n",
            "memory usage: 132.9+ KB\n"
          ],
          "name": "stdout"
        },
        {
          "output_type": "execute_result",
          "data": {
            "text/html": [
              "<div>\n",
              "<style scoped>\n",
              "    .dataframe tbody tr th:only-of-type {\n",
              "        vertical-align: middle;\n",
              "    }\n",
              "\n",
              "    .dataframe tbody tr th {\n",
              "        vertical-align: top;\n",
              "    }\n",
              "\n",
              "    .dataframe thead th {\n",
              "        text-align: right;\n",
              "    }\n",
              "</style>\n",
              "<table border=\"1\" class=\"dataframe\">\n",
              "  <thead>\n",
              "    <tr style=\"text-align: right;\">\n",
              "      <th></th>\n",
              "      <th>PassengerId</th>\n",
              "      <th>Survived</th>\n",
              "      <th>Pclass</th>\n",
              "      <th>Name</th>\n",
              "      <th>Sex</th>\n",
              "      <th>Age</th>\n",
              "      <th>SibSp</th>\n",
              "      <th>Parch</th>\n",
              "      <th>Ticket</th>\n",
              "      <th>Fare</th>\n",
              "      <th>Cabin</th>\n",
              "      <th>Embarked</th>\n",
              "    </tr>\n",
              "  </thead>\n",
              "  <tbody>\n",
              "    <tr>\n",
              "      <th>0</th>\n",
              "      <td>1</td>\n",
              "      <td>0.0</td>\n",
              "      <td>3</td>\n",
              "      <td>Braund, Mr. Owen Harris</td>\n",
              "      <td>male</td>\n",
              "      <td>22.0</td>\n",
              "      <td>1</td>\n",
              "      <td>0</td>\n",
              "      <td>A/5 21171</td>\n",
              "      <td>7.2500</td>\n",
              "      <td>NaN</td>\n",
              "      <td>S</td>\n",
              "    </tr>\n",
              "    <tr>\n",
              "      <th>1</th>\n",
              "      <td>2</td>\n",
              "      <td>1.0</td>\n",
              "      <td>1</td>\n",
              "      <td>Cumings, Mrs. John Bradley (Florence Briggs Th...</td>\n",
              "      <td>female</td>\n",
              "      <td>38.0</td>\n",
              "      <td>1</td>\n",
              "      <td>0</td>\n",
              "      <td>PC 17599</td>\n",
              "      <td>71.2833</td>\n",
              "      <td>C85</td>\n",
              "      <td>C</td>\n",
              "    </tr>\n",
              "    <tr>\n",
              "      <th>2</th>\n",
              "      <td>3</td>\n",
              "      <td>1.0</td>\n",
              "      <td>3</td>\n",
              "      <td>Heikkinen, Miss. Laina</td>\n",
              "      <td>female</td>\n",
              "      <td>26.0</td>\n",
              "      <td>0</td>\n",
              "      <td>0</td>\n",
              "      <td>STON/O2. 3101282</td>\n",
              "      <td>7.9250</td>\n",
              "      <td>NaN</td>\n",
              "      <td>S</td>\n",
              "    </tr>\n",
              "    <tr>\n",
              "      <th>3</th>\n",
              "      <td>4</td>\n",
              "      <td>1.0</td>\n",
              "      <td>1</td>\n",
              "      <td>Futrelle, Mrs. Jacques Heath (Lily May Peel)</td>\n",
              "      <td>female</td>\n",
              "      <td>35.0</td>\n",
              "      <td>1</td>\n",
              "      <td>0</td>\n",
              "      <td>113803</td>\n",
              "      <td>53.1000</td>\n",
              "      <td>C123</td>\n",
              "      <td>S</td>\n",
              "    </tr>\n",
              "    <tr>\n",
              "      <th>4</th>\n",
              "      <td>5</td>\n",
              "      <td>0.0</td>\n",
              "      <td>3</td>\n",
              "      <td>Allen, Mr. William Henry</td>\n",
              "      <td>male</td>\n",
              "      <td>35.0</td>\n",
              "      <td>0</td>\n",
              "      <td>0</td>\n",
              "      <td>373450</td>\n",
              "      <td>8.0500</td>\n",
              "      <td>NaN</td>\n",
              "      <td>S</td>\n",
              "    </tr>\n",
              "  </tbody>\n",
              "</table>\n",
              "</div>"
            ],
            "text/plain": [
              "   PassengerId  Survived  Pclass  ...     Fare Cabin  Embarked\n",
              "0            1       0.0       3  ...   7.2500   NaN         S\n",
              "1            2       1.0       1  ...  71.2833   C85         C\n",
              "2            3       1.0       3  ...   7.9250   NaN         S\n",
              "3            4       1.0       1  ...  53.1000  C123         S\n",
              "4            5       0.0       3  ...   8.0500   NaN         S\n",
              "\n",
              "[5 rows x 12 columns]"
            ]
          },
          "metadata": {
            "tags": []
          },
          "execution_count": 48
        }
      ]
    },
    {
      "cell_type": "code",
      "metadata": {
        "colab": {
          "base_uri": "https://localhost:8080/"
        },
        "id": "2NHEQiwTo0rm",
        "outputId": "f5a185dd-b1dd-4395-85c9-c471036fa875"
      },
      "source": [
        "df = df_comb.drop(['Cabin','PassengerId','Ticket'],axis=1)\n",
        "df.head()\n",
        "df.info()"
      ],
      "execution_count": 49,
      "outputs": [
        {
          "output_type": "stream",
          "text": [
            "<class 'pandas.core.frame.DataFrame'>\n",
            "Int64Index: 1309 entries, 0 to 417\n",
            "Data columns (total 9 columns):\n",
            " #   Column    Non-Null Count  Dtype  \n",
            "---  ------    --------------  -----  \n",
            " 0   Survived  891 non-null    float64\n",
            " 1   Pclass    1309 non-null   int64  \n",
            " 2   Name      1309 non-null   object \n",
            " 3   Sex       1309 non-null   object \n",
            " 4   Age       1046 non-null   float64\n",
            " 5   SibSp     1309 non-null   int64  \n",
            " 6   Parch     1309 non-null   int64  \n",
            " 7   Fare      1308 non-null   float64\n",
            " 8   Embarked  1307 non-null   object \n",
            "dtypes: float64(3), int64(3), object(3)\n",
            "memory usage: 102.3+ KB\n"
          ],
          "name": "stdout"
        }
      ]
    },
    {
      "cell_type": "code",
      "metadata": {
        "id": "B7DSIqYctI8t",
        "colab": {
          "base_uri": "https://localhost:8080/",
          "height": 286
        },
        "outputId": "a767cf97-19c6-4628-ce61-1ef4c8cf411f"
      },
      "source": [
        "corr_matrix = df.corr().abs()\n",
        "sns.heatmap(corr_matrix)"
      ],
      "execution_count": 50,
      "outputs": [
        {
          "output_type": "execute_result",
          "data": {
            "text/plain": [
              "<matplotlib.axes._subplots.AxesSubplot at 0x7fe76a910990>"
            ]
          },
          "metadata": {
            "tags": []
          },
          "execution_count": 50
        },
        {
          "output_type": "display_data",
          "data": {
            "image/png": "[encoded data removed]",
            "text/plain": [
              "<Figure size 432x288 with 2 Axes>"
            ]
          },
          "metadata": {
            "tags": [],
            "needs_background": "light"
          }
        }
      ]
    },
    {
      "cell_type": "markdown",
      "metadata": {
        "id": "aEwL3JnuzmLh"
      },
      "source": [
        "Categorization of Features"
      ]
    },
    {
      "cell_type": "code",
      "metadata": {
        "id": "TWoTDqEcwIP8"
      },
      "source": [
        "numerical_features = [feature for feature in df.columns if df[feature].dtypes != 'O']\n",
        "\n",
        "discrete_features = [feature for feature in numerical_features if len(df[feature].unique())<25]\n",
        "\n",
        "continuous_features = [feature for feature in numerical_features if feature not in discrete_features]\n",
        "\n",
        "categorical_features = list(set(list(df.columns)).difference(set(numerical_features)))"
      ],
      "execution_count": 51,
      "outputs": []
    },
    {
      "cell_type": "code",
      "metadata": {
        "id": "ESKssDfGX_B5",
        "colab": {
          "base_uri": "https://localhost:8080/",
          "height": 296
        },
        "outputId": "e9e3b1ef-3803-4993-b7cb-1f540c398471"
      },
      "source": [
        "sns.countplot(x='Embarked',hue='Survived',data=df)"
      ],
      "execution_count": 52,
      "outputs": [
        {
          "output_type": "execute_result",
          "data": {
            "text/plain": [
              "<matplotlib.axes._subplots.AxesSubplot at 0x7fe76583da10>"
            ]
          },
          "metadata": {
            "tags": []
          },
          "execution_count": 52
        },
        {
          "output_type": "display_data",
          "data": {
            "image/png": "[encoded data removed]",
            "text/plain": [
              "<Figure size 432x288 with 1 Axes>"
            ]
          },
          "metadata": {
            "tags": [],
            "needs_background": "light"
          }
        }
      ]
    },
    {
      "cell_type": "code",
      "metadata": {
        "id": "4Ev18KYIXkcw",
        "colab": {
          "base_uri": "https://localhost:8080/",
          "height": 369
        },
        "outputId": "ac036705-c7e7-4020-f512-a29b900b8080"
      },
      "source": [
        "sns.displot(x='Age',data=df,bins=10)\n",
        "plt.show()"
      ],
      "execution_count": 54,
      "outputs": [
        {
          "output_type": "display_data",
          "data": {
            "image/png": "[encoded data removed]",
            "text/plain": [
              "<Figure size 360x360 with 1 Axes>"
            ]
          },
          "metadata": {
            "tags": [],
            "needs_background": "light"
          }
        }
      ]
    },
    {
      "cell_type": "markdown",
      "metadata": {
        "id": "Kpo0-Lhmalpx"
      },
      "source": [
        "Handling Missing Values"
      ]
    },
    {
      "cell_type": "code",
      "metadata": {
        "id": "87ioCpl_061-",
        "colab": {
          "base_uri": "https://localhost:8080/"
        },
        "outputId": "8220d652-8782-4673-ee59-6729e2b7191d"
      },
      "source": [
        "def Salutation(x):\n",
        "  if 'Mr.' in x:\n",
        "    return 'Mr.'\n",
        "  elif 'Miss.' in x:\n",
        "    return 'Miss.'\n",
        "  else:\n",
        "    return 'Mrs.'\n",
        "\n",
        "def Age(x,y):\n",
        "  if np.isnan(y):\n",
        "    if x=='Mr.':\n",
        "      return(df[df['Salutation']=='Mr.']['Age'].median())\n",
        "    elif x=='Miss.':\n",
        "      return(df[df['Salutation']=='Miss.']['Age'].median())\n",
        "    else:\n",
        "      return(df[df['Salutation']=='Mrs.']['Age'].median())\n",
        "  else:\n",
        "    return y\n",
        "\n",
        "df['Salutation'] = df['Name'].apply(lambda x: Salutation(x))\n",
        "\n",
        "df['Age'] = df.apply(lambda x: Age(x.Salutation,x.Age),axis=1)\n",
        "\n",
        "df['Embarked'].fillna('S',inplace=True)\n",
        "\n",
        "df['Fare'].fillna(df['Fare'].mean(),inplace=True)\n",
        "\n",
        "df.info()"
      ],
      "execution_count": 55,
      "outputs": [
        {
          "output_type": "stream",
          "text": [
            "<class 'pandas.core.frame.DataFrame'>\n",
            "Int64Index: 1309 entries, 0 to 417\n",
            "Data columns (total 10 columns):\n",
            " #   Column      Non-Null Count  Dtype  \n",
            "---  ------      --------------  -----  \n",
            " 0   Survived    891 non-null    float64\n",
            " 1   Pclass      1309 non-null   int64  \n",
            " 2   Name        1309 non-null   object \n",
            " 3   Sex         1309 non-null   object \n",
            " 4   Age         1309 non-null   float64\n",
            " 5   SibSp       1309 non-null   int64  \n",
            " 6   Parch       1309 non-null   int64  \n",
            " 7   Fare        1309 non-null   float64\n",
            " 8   Embarked    1309 non-null   object \n",
            " 9   Salutation  1309 non-null   object \n",
            "dtypes: float64(3), int64(3), object(4)\n",
            "memory usage: 152.5+ KB\n"
          ],
          "name": "stdout"
        }
      ]
    },
    {
      "cell_type": "markdown",
      "metadata": {
        "id": "q1Xt4MmOaqCS"
      },
      "source": [
        "Vizualize Continuous Features"
      ]
    },
    {
      "cell_type": "code",
      "metadata": {
        "id": "5l6ciUbfZ0pI",
        "colab": {
          "base_uri": "https://localhost:8080/",
          "height": 541
        },
        "outputId": "ca8d20ed-319d-4df7-9dc9-0754ed4d3467"
      },
      "source": [
        "sns.boxplot(x='Survived',y='Age',data=df[df['Sex']=='male'])\n",
        "plt.show()\n",
        "sns.boxplot(x='Survived',y='Fare',data=df)#medians different\n",
        "plt.show()\n",
        "\n",
        "df1 = df.drop(['Name','Salutation'],axis=1)"
      ],
      "execution_count": 63,
      "outputs": [
        {
          "output_type": "display_data",
          "data": {
            "image/png": "[encoded data removed]",
            "text/plain": [
              "<Figure size 432x288 with 1 Axes>"
            ]
          },
          "metadata": {
            "tags": [],
            "needs_background": "light"
          }
        },
        {
          "output_type": "display_data",
          "data": {
            "image/png": "[encoded data removed]",
            "text/plain": [
              "<Figure size 432x288 with 1 Axes>"
            ]
          },
          "metadata": {
            "tags": [],
            "needs_background": "light"
          }
        }
      ]
    },
    {
      "cell_type": "markdown",
      "metadata": {
        "id": "HJh030Sdl143"
      },
      "source": [
        "Vizualize Categorical Features"
      ]
    },
    {
      "cell_type": "code",
      "metadata": {
        "id": "jlDxXgafcFOs",
        "colab": {
          "base_uri": "https://localhost:8080/",
          "height": 1000
        },
        "outputId": "e914764e-8f43-4ded-bb97-354537a4dd38"
      },
      "source": [
        "sns.countplot(x='Sex',hue='Survived',data=df1)\n",
        "plt.show()\n",
        "\n",
        "sns.countplot(x='Pclass',hue='Survived',data=df1)\n",
        "plt.show()\n",
        "\n",
        "sns.countplot(x='SibSp',hue='Survived',data=df1)\n",
        "plt.show()\n",
        "\n",
        "sns.countplot(x='Parch',hue='Survived',data=df1)\n",
        "plt.show()\n",
        "\n",
        "sns.countplot(x='Embarked',hue='Survived',data=df1)\n",
        "plt.show()"
      ],
      "execution_count": 64,
      "outputs": [
        {
          "output_type": "display_data",
          "data": {
            "image/png": "[encoded data removed]",
            "text/plain": [
              "<Figure size 432x288 with 1 Axes>"
            ]
          },
          "metadata": {
            "tags": [],
            "needs_background": "light"
          }
        },
        {
          "output_type": "display_data",
          "data": {
            "image/png": "[encoded data removed]",
            "text/plain": [
              "<Figure size 432x288 with 1 Axes>"
            ]
          },
          "metadata": {
            "tags": [],
            "needs_background": "light"
          }
        },
        {
          "output_type": "display_data",
          "data": {
            "image/png": "[encoded data removed]",
            "text/plain": [
              "<Figure size 432x288 with 1 Axes>"
            ]
          },
          "metadata": {
            "tags": [],
            "needs_background": "light"
          }
        },
        {
          "output_type": "display_data",
          "data": {
            "image/png": "[encoded data removed]",
            "text/plain": [
              "<Figure size 432x288 with 1 Axes>"
            ]
          },
          "metadata": {
            "tags": [],
            "needs_background": "light"
          }
        },
        {
          "output_type": "display_data",
          "data": {
            "image/png": "[encoded data removed]",
            "text/plain": [
              "<Figure size 432x288 with 1 Axes>"
            ]
          },
          "metadata": {
            "tags": [],
            "needs_background": "light"
          }
        }
      ]
    },
    {
      "cell_type": "code",
      "metadata": {
        "id": "KRQ0sJWFklqD",
        "colab": {
          "base_uri": "https://localhost:8080/",
          "height": 296
        },
        "outputId": "dd363daf-3bf7-4d2a-b8ed-8654fe0c678a"
      },
      "source": [
        "df1['Family'] = df1['SibSp'] + df1['Parch']\n",
        "df1.head()\n",
        "\n",
        "sns.countplot(x='Family',hue='Survived',data=df1)"
      ],
      "execution_count": 65,
      "outputs": [
        {
          "output_type": "execute_result",
          "data": {
            "text/plain": [
              "<matplotlib.axes._subplots.AxesSubplot at 0x7fe765144250>"
            ]
          },
          "metadata": {
            "tags": []
          },
          "execution_count": 65
        },
        {
          "output_type": "display_data",
          "data": {
            "image/png": "[encoded data removed]",
            "text/plain": [
              "<Figure size 432x288 with 1 Axes>"
            ]
          },
          "metadata": {
            "tags": [],
            "needs_background": "light"
          }
        }
      ]
    }
  ]
}